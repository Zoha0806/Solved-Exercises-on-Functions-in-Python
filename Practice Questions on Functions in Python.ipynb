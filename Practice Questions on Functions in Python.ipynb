{
 "cells": [
  {
   "cell_type": "code",
   "execution_count": 1,
   "id": "a2527295-350e-4972-9a00-1d2628c01f76",
   "metadata": {},
   "outputs": [],
   "source": [
    "# Practice Functions in Python"
   ]
  },
  {
   "cell_type": "code",
   "execution_count": 9,
   "id": "4b442a6b-d0eb-48a9-94cf-01351d2b6aa9",
   "metadata": {},
   "outputs": [],
   "source": [
    "# Q1 Simple Function"
   ]
  },
  {
   "cell_type": "code",
   "execution_count": 5,
   "id": "7b84d3d1-588d-4205-843d-dbecf96f34bd",
   "metadata": {},
   "outputs": [
    {
     "name": "stdout",
     "output_type": "stream",
     "text": [
      "Hello Zoha, the current time is 2024-11-27 23:25:12.214133.\n"
     ]
    }
   ],
   "source": [
    "import datetime\n",
    "def greet_with_time(name):\n",
    "    current_time=datetime.datetime.now()\n",
    "    print(f\"Hello {name}, the current time is {current_time}.\")\n",
    "greet_with_time(\"Zoha\")"
   ]
  },
  {
   "cell_type": "code",
   "execution_count": 11,
   "id": "86c48928-4c30-4f17-bb1a-7a36e2834466",
   "metadata": {},
   "outputs": [],
   "source": [
    "# Q2 Function with Multiple Parameters"
   ]
  },
  {
   "cell_type": "code",
   "execution_count": 13,
   "id": "300c819e-7a4b-4a63-aef2-2f22ea12b33b",
   "metadata": {},
   "outputs": [
    {
     "name": "stdout",
     "output_type": "stream",
     "text": [
      "35.666666666666664\n"
     ]
    }
   ],
   "source": [
    "def calculate_average(num1,num2,num3):\n",
    "    average=(num1+num2+num3)/3\n",
    "    return average\n",
    "result=calculate_average(34,35,38)\n",
    "print(result)"
   ]
  },
  {
   "cell_type": "code",
   "execution_count": 15,
   "id": "4ef58d94-4040-4341-8768-e55cb7a73a03",
   "metadata": {},
   "outputs": [],
   "source": [
    "# Q3 Default Argument"
   ]
  },
  {
   "cell_type": "code",
   "execution_count": 17,
   "id": "5a27b869-df2c-42d9-9ac0-d31c859a40be",
   "metadata": {},
   "outputs": [
    {
     "name": "stdout",
     "output_type": "stream",
     "text": [
      "405.0\n"
     ]
    }
   ],
   "source": [
    "def calculate_discount(price, percentage):\n",
    "    discount=price-(price*percentage)\n",
    "    return discount\n",
    "price=calculate_discount(450,10/100)\n",
    "print(price)"
   ]
  },
  {
   "cell_type": "code",
   "execution_count": 19,
   "id": "4030cfc8-7dd0-4564-80d4-162a819b1e7c",
   "metadata": {},
   "outputs": [],
   "source": [
    "# Q4 Keyword Arguments"
   ]
  },
  {
   "cell_type": "code",
   "execution_count": 21,
   "id": "2b24d673-5827-41fe-9328-f2bd1c9b7da6",
   "metadata": {},
   "outputs": [
    {
     "name": "stdout",
     "output_type": "stream",
     "text": [
      "Name: Zoha\n",
      "Age: 18\n",
      "City: Lahore\n"
     ]
    }
   ],
   "source": [
    "def print_info(name,age,city):\n",
    "    print(f\"Name: {name}\")\n",
    "    print(f\"Age: {age}\")\n",
    "    print(f\"City: {city}\")\n",
    "print_info(name=\"Zoha\",age=18,city=\"Lahore\")"
   ]
  },
  {
   "cell_type": "code",
   "execution_count": 23,
   "id": "46883691-fdba-4b6e-aa0a-d97fe41a310d",
   "metadata": {},
   "outputs": [],
   "source": [
    "# Q5 Variable-Length Arguments"
   ]
  },
  {
   "cell_type": "code",
   "execution_count": 25,
   "id": "08b6be3a-93cc-46f3-b822-397d53d18c2e",
   "metadata": {},
   "outputs": [
    {
     "name": "stdout",
     "output_type": "stream",
     "text": [
      "89\n"
     ]
    }
   ],
   "source": [
    "def find_max(*num):\n",
    "    value=max(num)\n",
    "    return value\n",
    "maximun_value=find_max(34,89,76,56)\n",
    "print(maximun_value)"
   ]
  },
  {
   "cell_type": "code",
   "execution_count": 27,
   "id": "d1279b1e-6f6d-447f-9a49-2f80097e758c",
   "metadata": {},
   "outputs": [],
   "source": [
    "# Q6 Recursive Function"
   ]
  },
  {
   "cell_type": "code",
   "execution_count": 31,
   "id": "27876a98-a785-466e-980a-487d3923a8ca",
   "metadata": {},
   "outputs": [
    {
     "name": "stdout",
     "output_type": "stream",
     "text": [
      "1307674368000\n"
     ]
    }
   ],
   "source": [
    "def factorial(n):\n",
    "    if n<0:\n",
    "        print(\"Factorial not defined for negative number.\")\n",
    "    elif n==0 or n==1:\n",
    "        return 1\n",
    "    else:\n",
    "        return n*factorial(n-1)\n",
    "result=factorial(15)\n",
    "print(result)"
   ]
  },
  {
   "cell_type": "code",
   "execution_count": 33,
   "id": "569ce34a-0921-4e7a-9f4a-8e58b26f6f3a",
   "metadata": {},
   "outputs": [],
   "source": [
    "# Q7 Function as an Argument"
   ]
  },
  {
   "cell_type": "code",
   "execution_count": 53,
   "id": "38a679bd-0d0c-4a70-ae89-daef1052fd6c",
   "metadata": {},
   "outputs": [
    {
     "name": "stdout",
     "output_type": "stream",
     "text": [
      "[8, 27, 125, 343, 1331]\n"
     ]
    }
   ],
   "source": [
    "def apply_function(func, numbers):\n",
    "    list=[]\n",
    "    for num in numbers:\n",
    "        data=func(num)\n",
    "        list.append(data)\n",
    "    return list\n",
    "def cube(i):\n",
    "    return i**3\n",
    "numbers=[2,3,5,7,11]\n",
    "numbers_cubes=apply_function(cube, numbers)\n",
    "print(numbers_cubes)"
   ]
  },
  {
   "cell_type": "code",
   "execution_count": 39,
   "id": "18569f53-1b46-4c09-9736-5529d5fafa63",
   "metadata": {},
   "outputs": [],
   "source": [
    "# Q8 Lambda Function"
   ]
  },
  {
   "cell_type": "code",
   "execution_count": 49,
   "id": "6ccf4b48-2177-41e7-9745-83c3c18f2b7d",
   "metadata": {},
   "outputs": [
    {
     "name": "stdout",
     "output_type": "stream",
     "text": [
      "49\n"
     ]
    }
   ],
   "source": [
    "square = lambda x: x ** 2\n",
    "result=square(7)\n",
    "print(result)"
   ]
  },
  {
   "cell_type": "code",
   "execution_count": 51,
   "id": "64523772-5e24-4cda-8c20-a7c376cb40ec",
   "metadata": {},
   "outputs": [],
   "source": [
    "# Q9 Higher_order Function"
   ]
  },
  {
   "cell_type": "code",
   "execution_count": 55,
   "id": "97fdce5b-b372-43b1-88ce-ee9ceff89855",
   "metadata": {},
   "outputs": [
    {
     "name": "stdout",
     "output_type": "stream",
     "text": [
      "[1, 16, 49, 100]\n"
     ]
    }
   ],
   "source": [
    "def apply_operation(func, numbers):\n",
    "    list=[]\n",
    "    for num in numbers:\n",
    "        data=func(num)\n",
    "        list.append(data)\n",
    "    return list\n",
    "def square(i):\n",
    "    return i**2\n",
    "numbers=[1,4,7,10]\n",
    "numbers_squares=apply_operation(square,numbers)\n",
    "print(numbers_squares)"
   ]
  },
  {
   "cell_type": "code",
   "execution_count": 57,
   "id": "e7cebc08-b9ec-42b8-b990-118a3962ad66",
   "metadata": {},
   "outputs": [],
   "source": [
    "# Q10 Function Decorators"
   ]
  },
  {
   "cell_type": "code",
   "execution_count": 77,
   "id": "0cb96463-0749-4ac1-a161-007a3b1ffc8d",
   "metadata": {},
   "outputs": [
    {
     "name": "stdout",
     "output_type": "stream",
     "text": [
      "Execution_time: 0.00152 seconds\n",
      "Result: 49995000\n"
     ]
    }
   ],
   "source": [
    "import time\n",
    "def measure_execution_time(func):\n",
    "    def wrapper(*args,**kwargs):\n",
    "        start_time=time.time()\n",
    "        result=func(*args,**kwargs)\n",
    "        end_time=time.time()\n",
    "        execution_time=end_time-start_time\n",
    "        print(f\"Execution_time: {execution_time:.5f} seconds\")\n",
    "        return result\n",
    "    return wrapper\n",
    "@measure_execution_time\n",
    "def my_function(n):\n",
    "    total=0\n",
    "    for i in range(n):\n",
    "        total+=i\n",
    "    return total\n",
    "result=my_function(10000)\n",
    "print(\"Result:\",result)"
   ]
  }
 ],
 "metadata": {
  "kernelspec": {
   "display_name": "Python 3 (ipykernel)",
   "language": "python",
   "name": "python3"
  },
  "language_info": {
   "codemirror_mode": {
    "name": "ipython",
    "version": 3
   },
   "file_extension": ".py",
   "mimetype": "text/x-python",
   "name": "python",
   "nbconvert_exporter": "python",
   "pygments_lexer": "ipython3",
   "version": "3.12.4"
  }
 },
 "nbformat": 4,
 "nbformat_minor": 5
}
